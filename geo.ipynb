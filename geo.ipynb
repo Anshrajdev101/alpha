{
 "cells": [
  {
   "cell_type": "code",
   "execution_count": 1,
   "id": "ba019837",
   "metadata": {},
   "outputs": [],
   "source": [
    "import numpy as np \n",
    "import pandas as pd\n",
    "import os\n",
    "import matplotlib.pyplot as plt\n",
    "from numpy import pi ,cos,sin,tan,arcsin,arccos,arctan,real,imag,exp,conj"
   ]
  },
  {
   "cell_type": "code",
   "execution_count": 2,
   "id": "d999f8f4",
   "metadata": {},
   "outputs": [],
   "source": [
    "# -*- coding: utf-8 -*-\n",
    "\n",
    "\n",
    "def inter_line_line(Z1, Z2, Z3, Z4):\n",
    "    \"\"\"INTER_LINE_LINE find the intersection between two lines defined by two\n",
    "    complex\n",
    "\n",
    "    Parameters\n",
    "    ----------\n",
    "    Z1 : complex\n",
    "        Complex coordinate of a point on the first line\n",
    "    Z2 : complex\n",
    "        Complex coordinate of another point on the first line\n",
    "    Z3 : complex\n",
    "        Complex coordinate of a point on the second line\n",
    "    Z4 : complex\n",
    "        Complex coordinate of another point on the second line\n",
    "\n",
    "    Returns\n",
    "    -------\n",
    "        Zlist: list\n",
    "            List of the complex coordinates of the intersection\n",
    "            return [Z1, Z2] if the 4 points are aligned\n",
    "    \"\"\"\n",
    "\n",
    "    # Check if the points are aligned\n",
    "    Z12 = Z1 - Z2\n",
    "    Z13 = Z1 - Z3\n",
    "    Z14 = Z1 - Z4\n",
    "    if (\n",
    "        Z12.real * Z13.imag - Z12.imag * Z13.real == 0\n",
    "        and Z12.real * Z14.imag - Z12.imag * Z14.real == 0\n",
    "    ):\n",
    "        return [Z1, Z2]\n",
    "\n",
    "    # Compute the line equation\n",
    "    (A1, B1, C1) = find_line_eq(Z1, Z2)\n",
    "    (A2, B2, C2) = find_line_eq(Z3, Z4)\n",
    "    # Compute the intersection\n",
    "    D = A1 * B2 - B1 * A2\n",
    "    Dx = C1 * B2 - B1 * C2\n",
    "    Dy = A1 * C2 - C1 * A2\n",
    "    if D != 0:\n",
    "        x = Dx / D\n",
    "        y = Dy / D\n",
    "        return [x + 1j * y]\n",
    "    else:\n",
    "        return []\n",
    "\n",
    "\n",
    "def find_line_eq(Z1, Z2):\n",
    "    \"\"\"Find the line equation (Ax+By=C)\n",
    "\n",
    "    Parameters\n",
    "    ----------\n",
    "    Z1 : complex\n",
    "        Complex coordinate of a point on the line\n",
    "    Z2 : complex\n",
    "         Complex coordinate of another point on the line\n",
    "\n",
    "    Returns\n",
    "    -------\n",
    "    A, B, C : (float, float, float)\n",
    "        Line equation parameters\n",
    "    \"\"\"\n",
    "    A = Z1.imag - Z2.imag\n",
    "    B = Z2.real - Z1.real\n",
    "    C = Z1.real * Z2.imag - Z2.real * Z1.imag\n",
    "    return (A, B, -C)\n"
   ]
  },
  {
   "cell_type": "code",
   "execution_count": 3,
   "id": "a77efd37",
   "metadata": {},
   "outputs": [],
   "source": [
    "\n",
    "from numpy import sqrt, abs as np_abs\n",
    "\n",
    "\n",
    "def inter_line_circle(Z1, Z2, R, Zc=0):\n",
    "    \"\"\"INTER_LINE_CIRCLE find the intersection between a circle of center Zc\n",
    "    and radius r with a line defined by two points\n",
    "\n",
    "    Parameters\n",
    "    ----------\n",
    "    Z1 : complex\n",
    "        Complex coordinate of a point on the line\n",
    "\n",
    "    Z2 : complex\n",
    "        Complex coordinate of another point on the line\n",
    "    R : float\n",
    "        Radius of the circle [m]\n",
    "    Zc : complex\n",
    "        Complex coordinate of the center\n",
    "\n",
    "    Returns\n",
    "    -------\n",
    "    Zlist: list\n",
    "        List of the complex coordinates of the intersection\n",
    "    \"\"\"\n",
    "    # Set the coordinate system on the circle center\n",
    "    if np_abs(Zc) > 1e-6:\n",
    "        Z1 = Z1 - Zc\n",
    "        Z2 = Z2 - Zc\n",
    "    else:\n",
    "        Zc = 0\n",
    "\n",
    "    x1 = Z1.real\n",
    "    y1 = Z1.imag\n",
    "    x2 = Z2.real\n",
    "    y2 = Z2.imag\n",
    "\n",
    "    dx = x2 - x1\n",
    "    dy = y2 - y1\n",
    "    dr = sqrt(dx ** 2 + dy ** 2)\n",
    "    D = x1 * y2 - x2 * y1\n",
    "\n",
    "    delta = R ** 2 * dr ** 2 - D ** 2\n",
    "    if delta < 0:  # 0 point\n",
    "        return list()\n",
    "    elif delta == 0:  # 1 point(tangent)\n",
    "        return [(D * dy - 1j * D * dx) / dr ** 2 + Zc]\n",
    "\n",
    "    else:  # 2 points\n",
    "        if dy < 0:\n",
    "            xs1 = (D * dy - dx * sqrt(delta)) / dr ** 2\n",
    "            xs2 = (D * dy + dx * sqrt(delta)) / dr ** 2\n",
    "        else:\n",
    "            xs1 = (D * dy + dx * sqrt(delta)) / dr ** 2\n",
    "            xs2 = (D * dy - dx * sqrt(delta)) / dr ** 2\n",
    "        ys1 = (-D * dx + abs(dy) * sqrt(delta)) / dr ** 2\n",
    "        ys2 = (-D * dx - abs(dy) * sqrt(delta)) / dr ** 2\n",
    "\n",
    "        return [xs1 + 1j * ys1 + Zc, xs2 + 1j * ys2 + Zc]\n"
   ]
  },
  {
   "cell_type": "code",
   "execution_count": 4,
   "id": "f2522951",
   "metadata": {},
   "outputs": [],
   "source": [
    "bore_dia=138\n",
    "air_gap=0.88\n",
    "bridge_thickness=1.65\n",
    "web_length=1.5\n",
    "web_thickness=8\n",
    "pole_angle=124.5/180*pi\n",
    "Vangle=103.7/180*pi\n",
    "magnet_sep=6.6\n",
    "post=2.87\n",
    "magnet_thickness=4.2\n",
    "magnet_width=16.4\n",
    "gap_inner=0.15\n",
    "gap_outer=0\n",
    "corner_offset_l1=[0.05,0,0.05,0,0.05,0,0.05,0]\n",
    "corner_offset_l2=[0.05,0,0,0.05]\n",
    "angular_offset=[10*exp(1j*9*pi/8),10*exp(-1j*pi/8),]\n",
    "post_offset=[0.5,0.5]\n"
   ]
  },
  {
   "cell_type": "code",
   "execution_count": 5,
   "id": "ab8be601",
   "metadata": {},
   "outputs": [],
   "source": [
    "r1=bore_dia/2-air_gap-bridge_thickness\n",
    "\n",
    "Z0=r1*exp(1j*(pi/8-arcsin(web_thickness/2/r1) ))\n",
    "Z1=Z0-web_length*exp(1j*pi/8)\n",
    "Z14=r1*exp(1j*(pole_angle/8))"
   ]
  },
  {
   "cell_type": "code",
   "execution_count": 6,
   "id": "3e9a5243",
   "metadata": {},
   "outputs": [],
   "source": [
    "a,b,c=find_line_eq(Z14,Z14+100*exp(1j*Vangle/2))\n",
    "Z8=(c-b*post/2)/a+1j*post/2\n",
    "c2=gap_outer*(sqrt(a**2+b**2))+c\n",
    "M1=(c2-b*magnet_sep/2)/a+1j*magnet_sep/2\n",
    "M2=M1+magnet_width*exp(1j*Vangle/2)\n",
    "M3=M2+magnet_thickness*exp(1j*(Vangle+pi)/2)\n",
    "M4=M1+magnet_thickness*exp(1j*(Vangle+pi)/2)\n",
    "M11=M1+gap_outer*exp(1j*(Vangle-pi)/2)\n",
    "M21=M2+gap_outer*exp(1j*(Vangle-pi)/2)\n",
    "M31=M3+gap_inner*exp(1j*(Vangle+pi)/2)\n",
    "M41=M4+gap_inner*exp(1j*(Vangle+pi)/2)\n",
    "Z11=M11+corner_offset_l1[0]*magnet_width*exp(1j*Vangle/2)\n",
    "Z12=M11+corner_offset_l1[1]*magnet_width*exp(1j*Vangle/2) \n",
    "Z13=M21+corner_offset_l1[2]*magnet_width*exp(1j*Vangle/2)\n",
    "Z14=M21+corner_offset_l1[3]*magnet_width*exp(1j*Vangle/2) \n",
    "Z2=M31+corner_offset_l1[5]*magnet_width*exp(1j*Vangle/2) \n",
    "Z3=M41+corner_offset_l1[6]*magnet_width*exp(1j*Vangle/2)\n",
    "Z4=M41+corner_offset_l1[7]*magnet_width*exp(1j*Vangle/2) \n",
    "Z5=Z4+angular_offset[0]\n",
    "Z10=Z11+angular_offset[1]\n",
    "a,b,c=find_line_eq(Z2,Z3)\n",
    "Z7=(c-b*post/2)/a+1j*post/2\n",
    "Z6=Z7-post_offset[0]\n",
    "Z9=Z8+post_offset[1]"
   ]
  },
  {
   "cell_type": "code",
   "execution_count": 7,
   "id": "63751159",
   "metadata": {},
   "outputs": [],
   "source": [
    "def quin_bez(Z1,Z2,Z3,Z4,Z5,t):\n",
    "    one_t=1-t\n",
    "    Zt=one_t**4*Z1+4*t*one_t**3*Z2+6*t**2*one_t**2*Z3+4*t**3*one_t*Z4++t**4*Z5\n",
    "    return Zt"
   ]
  },
  {
   "cell_type": "code",
   "execution_count": 8,
   "id": "1b12a95f",
   "metadata": {},
   "outputs": [
    {
     "data": {
      "text/plain": [
       "(59.32695013361524+18.883990926398575j)"
      ]
     },
     "execution_count": 8,
     "metadata": {},
     "output_type": "execute_result"
    }
   ],
   "source": [
    "Z2"
   ]
  },
  {
   "cell_type": "code",
   "execution_count": 9,
   "id": "1ccaa052",
   "metadata": {},
   "outputs": [
    {
     "data": {
      "text/plain": [
       "(59.32695013361524+18.883990926398575j)"
      ]
     },
     "execution_count": 9,
     "metadata": {},
     "output_type": "execute_result"
    }
   ],
   "source": [
    "quin_bez(Z13,Z14,Z0,Z1,Z2,1)"
   ]
  },
  {
   "cell_type": "code",
   "execution_count": 10,
   "id": "3e9c7d78",
   "metadata": {},
   "outputs": [],
   "source": [
    "Z_pocket=[]\n",
    "\n",
    "for i in np.linspace(0,1,10,True):\n",
    "    Z_pocket.append(quin_bez(Z13,Z14,Z0,Z1,Z2,i))\n",
    "\n",
    "for i in np.linspace(0,1,10,True):\n",
    "    Z_pocket.append(quin_bez(Z3,Z4,Z5,Z6,Z7,i))\n",
    "\n",
    "for i in np.linspace(0,1,10,True):\n",
    "    Z_pocket.append(quin_bez(Z8,Z9,Z10,Z11,Z12,i))\n",
    "\n",
    "Z_pocket.append(Z13)\n",
    "\n",
    "\n",
    "Z_mag=[M1,M2,M3,M4,M1]\n",
    "Z_pocket_2=[]\n",
    "Z_mag_2=[]\n",
    "for i in Z_pocket:Z_pocket_2.append(np.conjugate(i))\n",
    "for i in Z_mag:Z_mag_2.append(np.conjugate(i))"
   ]
  },
  {
   "cell_type": "code",
   "execution_count": 11,
   "id": "5f57d8f9",
   "metadata": {},
   "outputs": [],
   "source": [
    "x_mag=[]\n",
    "y_mag=[]\n",
    "x_pocket=[]\n",
    "y_pocket=[]\n",
    "x_mag_2=[]\n",
    "y_mag_2=[]\n",
    "x_pocket_2=[]\n",
    "y_pocket_2=[]\n",
    "\n",
    "for i in Z_mag:\n",
    "    x_mag.append(np.real(i))\n",
    "    y_mag.append(np.imag(i))\n",
    "for i in Z_pocket:\n",
    "    x_pocket.append(np.real(i))\n",
    "    y_pocket.append(np.imag(i))    \n",
    "for i in Z_mag_2:\n",
    "    x_mag_2.append(np.real(i))\n",
    "    y_mag_2.append(np.imag(i))\n",
    "for i in Z_pocket_2:\n",
    "    x_pocket_2.append(np.real(i))\n",
    "    y_pocket_2.append(np.imag(i))    \n",
    "theta=np.linspace(-pi/8,pi/8,20)\n",
    "x_r=[0]\n",
    "y_r=[0]\n",
    "for i in theta:\n",
    "    x_r.append(np.real((bore_dia/2-air_gap)*exp(1j*i)))\n",
    "    y_r.append(np.imag((bore_dia/2-air_gap)*exp(1j*i)))\n",
    "x_r.append(0)\n",
    "y_r.append(0)"
   ]
  },
  {
   "cell_type": "code",
   "execution_count": 12,
   "id": "eeba2897",
   "metadata": {},
   "outputs": [
    {
     "data": {
      "image/png": "[encoded data removed]",
      "text/plain": [
       "<Figure size 432x288 with 1 Axes>"
      ]
     },
     "metadata": {
      "needs_background": "light"
     },
     "output_type": "display_data"
    }
   ],
   "source": [
    "plt.plot(x_mag,y_mag)\n",
    "plt.plot(x_pocket,y_pocket)\n",
    "\n",
    "plt.plot(x_mag_2,y_mag_2)\n",
    "plt.plot(x_pocket_2,y_pocket_2)\n",
    "plt.plot(x_r,y_r)\n",
    "\n",
    "ax = plt.gca()\n",
    "\n",
    "ax.set_aspect('equal', adjustable='box')"
   ]
  }
 ],
 "metadata": {
  "kernelspec": {
   "display_name": "Python 3",
   "language": "python",
   "name": "python3"
  },
  "language_info": {
   "codemirror_mode": {
    "name": "ipython",
    "version": 3
   },
   "file_extension": ".py",
   "mimetype": "text/x-python",
   "name": "python",
   "nbconvert_exporter": "python",
   "pygments_lexer": "ipython3",
   "version": "3.8.8"
  }
 },
 "nbformat": 4,
 "nbformat_minor": 5
}
